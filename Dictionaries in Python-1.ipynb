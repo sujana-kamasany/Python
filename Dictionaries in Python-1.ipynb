{
 "cells": [
  {
   "cell_type": "code",
   "execution_count": 1,
   "metadata": {},
   "outputs": [
    {
     "name": "stdout",
     "output_type": "stream",
     "text": [
      "6\n"
     ]
    }
   ],
   "source": [
    "#SUM all items in a dictionary\n",
    "\n",
    "d1={\n",
    "    \"india\":1,\n",
    "    \"africa\":2,\n",
    "    \"usa\":3\n",
    "}\n",
    "print(sum(d1.values()))"
   ]
  },
  {
   "cell_type": "code",
   "execution_count": 3,
   "metadata": {},
   "outputs": [
    {
     "name": "stdout",
     "output_type": "stream",
     "text": [
      "3\n"
     ]
    }
   ],
   "source": [
    "#Accesing an element from  dictionary\n",
    "\n",
    "d2={\n",
    "    \"india\":1,\n",
    "    \"africa\":2,\n",
    "    \"usa\":3\n",
    "}\n",
    "x=d2[\"usa\"]\n",
    "print(x)\n"
   ]
  },
  {
   "cell_type": "code",
   "execution_count": 4,
   "metadata": {},
   "outputs": [
    {
     "name": "stdout",
     "output_type": "stream",
     "text": [
      "Concatenated String=\n",
      "{'india': 1, 'africa': 2, 'usa': 3, 'france': 4}\n"
     ]
    }
   ],
   "source": [
    "#Program to concate two dictionaries\n",
    "\n",
    "d1={\n",
    "    \"india\":1,\n",
    "    \"africa\":2,\n",
    "    \"usa\":3\n",
    "}\n",
    "d2={\n",
    "    \"france\":4\n",
    "}\n",
    "d1.update(d2)\n",
    "print(\"Concatenated String=\")\n",
    "print(d1)"
   ]
  },
  {
   "cell_type": "code",
   "execution_count": 7,
   "metadata": {},
   "outputs": [
    {
     "name": "stdout",
     "output_type": "stream",
     "text": [
      "{'india': 1, 'africa': 2, 'usa': 3}\n",
      "{'india': 1, 'africa': 2, 'usa': 3, 'spain': 4}\n"
     ]
    }
   ],
   "source": [
    "# ADD keys\n",
    "\n",
    "d1={\n",
    "    \"india\":1,\n",
    "    \"africa\":2,\n",
    "    \"usa\":3\n",
    "}\n",
    "print(d1)\n",
    "d1[\"spain\"]=4\n",
    "print(d1)"
   ]
  },
  {
   "cell_type": "code",
   "execution_count": 8,
   "metadata": {},
   "outputs": [
    {
     "name": "stdout",
     "output_type": "stream",
     "text": [
      "length= 3\n"
     ]
    }
   ],
   "source": [
    "#Length\n",
    "\n",
    "d1={\n",
    "    \"india\":1,\n",
    "    \"africa\":2,\n",
    "    \"usa\":3\n",
    "}\n",
    "print(\"length=\",len(d1))\n"
   ]
  },
  {
   "cell_type": "code",
   "execution_count": 9,
   "metadata": {},
   "outputs": [
    {
     "name": "stdout",
     "output_type": "stream",
     "text": [
      "{'india': 1, 'africa': 2}\n"
     ]
    }
   ],
   "source": [
    "#Remove\n",
    "\n",
    "d1={\n",
    "    \"india\":1,\n",
    "    \"africa\":2,\n",
    "    \"usa\":3\n",
    "}\n",
    "\n",
    "d1.popitem()                              \n",
    "print(d1)\n"
   ]
  },
  {
   "cell_type": "code",
   "execution_count": null,
   "metadata": {},
   "outputs": [],
   "source": []
  }
 ],
 "metadata": {
  "kernelspec": {
   "display_name": "Python 3",
   "language": "python",
   "name": "python3"
  },
  "language_info": {
   "codemirror_mode": {
    "name": "ipython",
    "version": 3
   },
   "file_extension": ".py",
   "mimetype": "text/x-python",
   "name": "python",
   "nbconvert_exporter": "python",
   "pygments_lexer": "ipython3",
   "version": "3.8.3"
  }
 },
 "nbformat": 4,
 "nbformat_minor": 4
}
