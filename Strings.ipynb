{
 "cells": [
  {
   "cell_type": "code",
   "execution_count": 1,
   "metadata": {},
   "outputs": [
    {
     "name": "stdout",
     "output_type": "stream",
     "text": [
      "Enter the string= BMW\n",
      "Length of the input string is: 3\n"
     ]
    }
   ],
   "source": [
    "#Program to calculate the length of a string\n",
    "s = input(\"Enter the string= \")\n",
    "count= 0\n",
    "for i in s:\n",
    "      count = count+1\n",
    "print(\"Length of the input string is:\", count)"
   ]
  },
  {
   "cell_type": "code",
   "execution_count": 8,
   "metadata": {},
   "outputs": [
    {
     "name": "stdout",
     "output_type": "stream",
     "text": [
      "Number of characters= {'M': 1, 'e': 3, 'r': 1, 'c': 1, 'd': 1, 's': 1}\n"
     ]
    }
   ],
   "source": [
    "#Program to count number of characters in string\n",
    "a= \"Mercedes\"\n",
    "dict = {}\n",
    "for n in a:\n",
    "        keys = dict.keys()\n",
    "        if n in keys:\n",
    "            dict[n] += 1\n",
    "        else:\n",
    "            dict[n] = 1\n",
    "print (\"Number of characters=\",dict)"
   ]
  },
  {
   "cell_type": "code",
   "execution_count": 9,
   "metadata": {},
   "outputs": [
    {
     "name": "stdout",
     "output_type": "stream",
     "text": [
      "xyc abz\n"
     ]
    }
   ],
   "source": [
    "#program to get a single string from two given strings,seperated by a space and swap the first two characters \n",
    "def str(a, b):\n",
    "    new_a = b[:2] + a[2:]\n",
    "    new_b = a[:2] + b[2:]\n",
    "\n",
    "    return new_a + ' ' + new_b\n",
    "print(str('abc', 'xyz'))"
   ]
  },
  {
   "cell_type": "code",
   "execution_count": 11,
   "metadata": {},
   "outputs": [
    {
     "name": "stdout",
     "output_type": "stream",
     "text": [
      "Upper case= LAMBORGINI \n",
      "Lower case= lamborgini \n"
     ]
    }
   ],
   "source": [
    "#program to print upper & lower cases \n",
    "ch = \"LaMbOrGINi \" \n",
    "print(\"Upper case=\", ch.upper()) \n",
    "print(\"Lower case=\", ch.lower())"
   ]
  },
  {
   "cell_type": "code",
   "execution_count": 12,
   "metadata": {},
   "outputs": [
    {
     "name": "stdout",
     "output_type": "stream",
     "text": [
      "Lamborgini\n",
      "\n",
      "Lamborgini\n"
     ]
    }
   ],
   "source": [
    "#program to remove a newline in python\n",
    "str='Lamborgini\\n'\n",
    "print(str)\n",
    "print(str.rstrip())"
   ]
  },
  {
   "cell_type": "code",
   "execution_count": 17,
   "metadata": {},
   "outputs": [
    {
     "name": "stdout",
     "output_type": "stream",
     "text": [
      "\n",
      "2\n",
      "\n"
     ]
    }
   ],
   "source": [
    "#program to count occurrences of a substring in a string \n",
    "str = 'This is Python it is one of the programming language'\n",
    "print()\n",
    "print(str.count(\"is\"))\n",
    "print()"
   ]
  },
  {
   "cell_type": "code",
   "execution_count": 25,
   "metadata": {},
   "outputs": [
    {
     "name": "stdout",
     "output_type": "stream",
     "text": [
      "['Python', 'Language']\n"
     ]
    }
   ],
   "source": [
    "# Python code to convert string to list \n",
    "\n",
    "def Convert(string): \n",
    "    li = list(string.split(\" \")) \n",
    "    return li \n",
    "# Driver code\n",
    "str1 = \"Python Language\"\n",
    "print(Convert(str1)) \n"
   ]
  },
  {
   "cell_type": "code",
   "execution_count": 27,
   "metadata": {},
   "outputs": [
    {
     "name": "stdout",
     "output_type": "stream",
     "text": [
      "1 : M\n",
      "2 : E\n",
      "3 : R\n",
      "4 : C\n",
      "5 : E\n",
      "6 : D\n",
      "7 : E\n",
      "8 : S\n"
     ]
    }
   ],
   "source": [
    "#program to print every character of a string\n",
    "\n",
    "str1=\"MERCEDES\"\n",
    "for i,j in enumerate(str1,1):\n",
    "    print(i,\":\",j)"
   ]
  },
  {
   "cell_type": "code",
   "execution_count": 28,
   "metadata": {},
   "outputs": [
    {
     "name": "stdout",
     "output_type": "stream",
     "text": [
      "12\n"
     ]
    }
   ],
   "source": [
    "#program to find the length of the string \"refrigerator\" without using len function\n",
    "a=\"refrigeretor\"\n",
    "count=0\n",
    "for i in a:\n",
    "    count=count+1\n",
    "print(count)"
   ]
  },
  {
   "cell_type": "code",
   "execution_count": 1,
   "metadata": {},
   "outputs": [
    {
     "name": "stdout",
     "output_type": "stream",
     "text": [
      "ython\n",
      "Pthon\n",
      "Pytho\n"
     ]
    }
   ],
   "source": [
    "#program to perform deletion of a character \n",
    "def remove_char(str, n):\n",
    "      first_part = str[:n] \n",
    "      last_part = str[n+1:]\n",
    "      return first_part + last_part\n",
    "print(remove_char('Python', 0))\n",
    "print(remove_char('Python', 1))\n",
    "print(remove_char('Python', 5))"
   ]
  },
  {
   "cell_type": "code",
   "execution_count": 2,
   "metadata": {},
   "outputs": [
    {
     "name": "stdout",
     "output_type": "stream",
     "text": [
      "1 : h\n",
      "2 : e\n",
      "3 : l\n",
      "4 : l\n",
      "5 : o\n",
      "6 : w\n",
      "7 : o\n",
      "8 : r\n",
      "9 : d\n"
     ]
    }
   ],
   "source": [
    "#program to print every character of a string entered by user in a new line using loop\n",
    "word=\"helloword\"\n",
    "for index,letter in enumerate(word,1):\n",
    "    print(index,\":\",letter)"
   ]
  },
  {
   "cell_type": "code",
   "execution_count": 3,
   "metadata": {},
   "outputs": [
    {
     "name": "stdout",
     "output_type": "stream",
     "text": [
      "Enter the first string:Harry\n",
      "Enter the second string:Ross\n",
      "Rorry Hass\n"
     ]
    }
   ],
   "source": [
    "#Python program tp get a single string from two diff and swap the first 2 chars\n",
    "s1=str(input(\"Enter the first string:\"))\n",
    "s2=str(input(\"Enter the second string:\"))\n",
    "def chars_mix_up(s1, s2):\n",
    "  new_s1 = s2[:2] + s1[2:]\n",
    "  new_s2 = s1[:2] + s2[2:]\n",
    "\n",
    "  return new_s1 + ' ' + new_s2\n",
    "print(chars_mix_up(s1, s2))\n"
   ]
  },
  {
   "cell_type": "code",
   "execution_count": 4,
   "metadata": {},
   "outputs": [
    {
     "name": "stdout",
     "output_type": "stream",
     "text": [
      "{'g': 2, 'o': 3, 'l': 1, 'e': 1, '.': 1, 'c': 1, 'm': 1}\n"
     ]
    }
   ],
   "source": [
    "#Program to count the number of charcters in a string\n",
    "def char_frequency(str1):\n",
    "    dict = {}\n",
    "    for n in str1:\n",
    "        keys = dict.keys()\n",
    "        if n in keys:\n",
    "            dict[n] += 1\n",
    "        else:\n",
    "            dict[n] = 1\n",
    "    return dict\n",
    "print(char_frequency('google.com'))"
   ]
  },
  {
   "cell_type": "code",
   "execution_count": null,
   "metadata": {},
   "outputs": [],
   "source": []
  }
 ],
 "metadata": {
  "kernelspec": {
   "display_name": "Python 3",
   "language": "python",
   "name": "python3"
  },
  "language_info": {
   "codemirror_mode": {
    "name": "ipython",
    "version": 3
   },
   "file_extension": ".py",
   "mimetype": "text/x-python",
   "name": "python",
   "nbconvert_exporter": "python",
   "pygments_lexer": "ipython3",
   "version": "3.8.3"
  }
 },
 "nbformat": 4,
 "nbformat_minor": 4
}
